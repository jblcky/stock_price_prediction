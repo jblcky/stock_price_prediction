{
 "cells": [
  {
   "cell_type": "code",
   "execution_count": 26,
   "id": "0bdc7258",
   "metadata": {},
   "outputs": [],
   "source": [
    "import yfinance as yf\n",
    "import pandas as pd\n",
    "import os\n",
    "import matplotlib.pyplot as plt\n",
    "import seaborn as sns\n",
    "import numpy as np"
   ]
  },
  {
   "cell_type": "code",
   "execution_count": 4,
   "id": "19b1a465",
   "metadata": {},
   "outputs": [
    {
     "name": "stderr",
     "output_type": "stream",
     "text": [
      "/tmp/ipykernel_8372/203453763.py:1: FutureWarning: YF.download() has changed argument auto_adjust default to True\n",
      "  cspx_data = yf.download(\"CSPX.L\", start=\"2019-01-01\", end=\"2024-12-31\")\n",
      "[*********************100%***********************]  1 of 1 completed\n"
     ]
    }
   ],
   "source": [
    "cspx_data = yf.download(\"CSPX.L\", start=\"2019-01-01\", end=\"2024-12-31\")"
   ]
  },
  {
   "cell_type": "code",
   "execution_count": 5,
   "id": "b1a4c486",
   "metadata": {},
   "outputs": [
    {
     "name": "stdout",
     "output_type": "stream",
     "text": [
      "Price            Close        High         Low        Open  Volume\n",
      "Ticker          CSPX.L      CSPX.L      CSPX.L      CSPX.L  CSPX.L\n",
      "Date                                                              \n",
      "2019-01-02  244.899994  245.589996  240.009995  242.179993   58019\n",
      "2019-01-03  241.300003  243.720001  239.429993  241.880005  287542\n",
      "2019-01-04  246.139999  246.800003  241.500000  241.759995   86487\n",
      "2019-01-07  249.259995  249.509995  246.800003  248.320007  497565\n",
      "2019-01-08  249.479996  252.320007  249.259995  249.720001  123117\n"
     ]
    }
   ],
   "source": [
    "print(cspx_data.head())"
   ]
  },
  {
   "cell_type": "code",
   "execution_count": 6,
   "id": "162801fd",
   "metadata": {},
   "outputs": [],
   "source": [
    "cspx_data.to_csv(\"data/CSPX.csv\")"
   ]
  },
  {
   "cell_type": "code",
   "execution_count": 9,
   "id": "dcb75587",
   "metadata": {},
   "outputs": [
    {
     "data": {
      "text/html": [
       "<div>\n",
       "<style scoped>\n",
       "    .dataframe tbody tr th:only-of-type {\n",
       "        vertical-align: middle;\n",
       "    }\n",
       "\n",
       "    .dataframe tbody tr th {\n",
       "        vertical-align: top;\n",
       "    }\n",
       "\n",
       "    .dataframe thead th {\n",
       "        text-align: right;\n",
       "    }\n",
       "</style>\n",
       "<table border=\"1\" class=\"dataframe\">\n",
       "  <thead>\n",
       "    <tr style=\"text-align: right;\">\n",
       "      <th></th>\n",
       "      <th>Price</th>\n",
       "      <th>Close</th>\n",
       "      <th>High</th>\n",
       "      <th>Low</th>\n",
       "      <th>Open</th>\n",
       "      <th>Volume</th>\n",
       "    </tr>\n",
       "  </thead>\n",
       "  <tbody>\n",
       "    <tr>\n",
       "      <th>0</th>\n",
       "      <td>Ticker</td>\n",
       "      <td>CSPX.L</td>\n",
       "      <td>CSPX.L</td>\n",
       "      <td>CSPX.L</td>\n",
       "      <td>CSPX.L</td>\n",
       "      <td>CSPX.L</td>\n",
       "    </tr>\n",
       "    <tr>\n",
       "      <th>1</th>\n",
       "      <td>Date</td>\n",
       "      <td>NaN</td>\n",
       "      <td>NaN</td>\n",
       "      <td>NaN</td>\n",
       "      <td>NaN</td>\n",
       "      <td>NaN</td>\n",
       "    </tr>\n",
       "    <tr>\n",
       "      <th>2</th>\n",
       "      <td>2019-01-02</td>\n",
       "      <td>244.89999389648438</td>\n",
       "      <td>245.58999633789062</td>\n",
       "      <td>240.00999450683594</td>\n",
       "      <td>242.17999267578125</td>\n",
       "      <td>58019</td>\n",
       "    </tr>\n",
       "    <tr>\n",
       "      <th>3</th>\n",
       "      <td>2019-01-03</td>\n",
       "      <td>241.3000030517578</td>\n",
       "      <td>243.72000122070312</td>\n",
       "      <td>239.42999267578125</td>\n",
       "      <td>241.8800048828125</td>\n",
       "      <td>287542</td>\n",
       "    </tr>\n",
       "    <tr>\n",
       "      <th>4</th>\n",
       "      <td>2019-01-04</td>\n",
       "      <td>246.13999938964844</td>\n",
       "      <td>246.8000030517578</td>\n",
       "      <td>241.5</td>\n",
       "      <td>241.75999450683594</td>\n",
       "      <td>86487</td>\n",
       "    </tr>\n",
       "    <tr>\n",
       "      <th>5</th>\n",
       "      <td>2019-01-07</td>\n",
       "      <td>249.25999450683594</td>\n",
       "      <td>249.50999450683594</td>\n",
       "      <td>246.8000030517578</td>\n",
       "      <td>248.32000732421875</td>\n",
       "      <td>497565</td>\n",
       "    </tr>\n",
       "    <tr>\n",
       "      <th>6</th>\n",
       "      <td>2019-01-08</td>\n",
       "      <td>249.47999572753906</td>\n",
       "      <td>252.32000732421875</td>\n",
       "      <td>249.25999450683594</td>\n",
       "      <td>249.72000122070312</td>\n",
       "      <td>123117</td>\n",
       "    </tr>\n",
       "    <tr>\n",
       "      <th>7</th>\n",
       "      <td>2019-01-09</td>\n",
       "      <td>252.89999389648438</td>\n",
       "      <td>253.25</td>\n",
       "      <td>251.6999969482422</td>\n",
       "      <td>251.97999572753906</td>\n",
       "      <td>79492</td>\n",
       "    </tr>\n",
       "    <tr>\n",
       "      <th>8</th>\n",
       "      <td>2019-01-10</td>\n",
       "      <td>253.07000732421875</td>\n",
       "      <td>253.07000732421875</td>\n",
       "      <td>250.47000122070312</td>\n",
       "      <td>251.72000122070312</td>\n",
       "      <td>42799</td>\n",
       "    </tr>\n",
       "    <tr>\n",
       "      <th>9</th>\n",
       "      <td>2019-01-11</td>\n",
       "      <td>253.24000549316406</td>\n",
       "      <td>254.0800018310547</td>\n",
       "      <td>252.1999969482422</td>\n",
       "      <td>253.7100067138672</td>\n",
       "      <td>77772</td>\n",
       "    </tr>\n",
       "  </tbody>\n",
       "</table>\n",
       "</div>"
      ],
      "text/plain": [
       "        Price               Close                High                 Low  \\\n",
       "0      Ticker              CSPX.L              CSPX.L              CSPX.L   \n",
       "1        Date                 NaN                 NaN                 NaN   \n",
       "2  2019-01-02  244.89999389648438  245.58999633789062  240.00999450683594   \n",
       "3  2019-01-03   241.3000030517578  243.72000122070312  239.42999267578125   \n",
       "4  2019-01-04  246.13999938964844   246.8000030517578               241.5   \n",
       "5  2019-01-07  249.25999450683594  249.50999450683594   246.8000030517578   \n",
       "6  2019-01-08  249.47999572753906  252.32000732421875  249.25999450683594   \n",
       "7  2019-01-09  252.89999389648438              253.25   251.6999969482422   \n",
       "8  2019-01-10  253.07000732421875  253.07000732421875  250.47000122070312   \n",
       "9  2019-01-11  253.24000549316406   254.0800018310547   252.1999969482422   \n",
       "\n",
       "                 Open  Volume  \n",
       "0              CSPX.L  CSPX.L  \n",
       "1                 NaN     NaN  \n",
       "2  242.17999267578125   58019  \n",
       "3   241.8800048828125  287542  \n",
       "4  241.75999450683594   86487  \n",
       "5  248.32000732421875  497565  \n",
       "6  249.72000122070312  123117  \n",
       "7  251.97999572753906   79492  \n",
       "8  251.72000122070312   42799  \n",
       "9   253.7100067138672   77772  "
      ]
     },
     "execution_count": 9,
     "metadata": {},
     "output_type": "execute_result"
    }
   ],
   "source": [
    "df = pd.read_csv(\"data/CSPX.csv\")\n",
    "df.head(10)"
   ]
  },
  {
   "cell_type": "code",
   "execution_count": 12,
   "id": "c7afac2a",
   "metadata": {},
   "outputs": [],
   "source": [
    "df.rename(columns={'Price':'Date'}, inplace=True)"
   ]
  },
  {
   "cell_type": "code",
   "execution_count": 13,
   "id": "444b66b3",
   "metadata": {},
   "outputs": [
    {
     "data": {
      "text/html": [
       "<div>\n",
       "<style scoped>\n",
       "    .dataframe tbody tr th:only-of-type {\n",
       "        vertical-align: middle;\n",
       "    }\n",
       "\n",
       "    .dataframe tbody tr th {\n",
       "        vertical-align: top;\n",
       "    }\n",
       "\n",
       "    .dataframe thead th {\n",
       "        text-align: right;\n",
       "    }\n",
       "</style>\n",
       "<table border=\"1\" class=\"dataframe\">\n",
       "  <thead>\n",
       "    <tr style=\"text-align: right;\">\n",
       "      <th></th>\n",
       "      <th>Date</th>\n",
       "      <th>Close</th>\n",
       "      <th>High</th>\n",
       "      <th>Low</th>\n",
       "      <th>Open</th>\n",
       "      <th>Volume</th>\n",
       "    </tr>\n",
       "  </thead>\n",
       "  <tbody>\n",
       "    <tr>\n",
       "      <th>0</th>\n",
       "      <td>Ticker</td>\n",
       "      <td>CSPX.L</td>\n",
       "      <td>CSPX.L</td>\n",
       "      <td>CSPX.L</td>\n",
       "      <td>CSPX.L</td>\n",
       "      <td>CSPX.L</td>\n",
       "    </tr>\n",
       "    <tr>\n",
       "      <th>1</th>\n",
       "      <td>Date</td>\n",
       "      <td>NaN</td>\n",
       "      <td>NaN</td>\n",
       "      <td>NaN</td>\n",
       "      <td>NaN</td>\n",
       "      <td>NaN</td>\n",
       "    </tr>\n",
       "    <tr>\n",
       "      <th>2</th>\n",
       "      <td>2019-01-02</td>\n",
       "      <td>244.89999389648438</td>\n",
       "      <td>245.58999633789062</td>\n",
       "      <td>240.00999450683594</td>\n",
       "      <td>242.17999267578125</td>\n",
       "      <td>58019</td>\n",
       "    </tr>\n",
       "    <tr>\n",
       "      <th>3</th>\n",
       "      <td>2019-01-03</td>\n",
       "      <td>241.3000030517578</td>\n",
       "      <td>243.72000122070312</td>\n",
       "      <td>239.42999267578125</td>\n",
       "      <td>241.8800048828125</td>\n",
       "      <td>287542</td>\n",
       "    </tr>\n",
       "    <tr>\n",
       "      <th>4</th>\n",
       "      <td>2019-01-04</td>\n",
       "      <td>246.13999938964844</td>\n",
       "      <td>246.8000030517578</td>\n",
       "      <td>241.5</td>\n",
       "      <td>241.75999450683594</td>\n",
       "      <td>86487</td>\n",
       "    </tr>\n",
       "    <tr>\n",
       "      <th>5</th>\n",
       "      <td>2019-01-07</td>\n",
       "      <td>249.25999450683594</td>\n",
       "      <td>249.50999450683594</td>\n",
       "      <td>246.8000030517578</td>\n",
       "      <td>248.32000732421875</td>\n",
       "      <td>497565</td>\n",
       "    </tr>\n",
       "    <tr>\n",
       "      <th>6</th>\n",
       "      <td>2019-01-08</td>\n",
       "      <td>249.47999572753906</td>\n",
       "      <td>252.32000732421875</td>\n",
       "      <td>249.25999450683594</td>\n",
       "      <td>249.72000122070312</td>\n",
       "      <td>123117</td>\n",
       "    </tr>\n",
       "    <tr>\n",
       "      <th>7</th>\n",
       "      <td>2019-01-09</td>\n",
       "      <td>252.89999389648438</td>\n",
       "      <td>253.25</td>\n",
       "      <td>251.6999969482422</td>\n",
       "      <td>251.97999572753906</td>\n",
       "      <td>79492</td>\n",
       "    </tr>\n",
       "    <tr>\n",
       "      <th>8</th>\n",
       "      <td>2019-01-10</td>\n",
       "      <td>253.07000732421875</td>\n",
       "      <td>253.07000732421875</td>\n",
       "      <td>250.47000122070312</td>\n",
       "      <td>251.72000122070312</td>\n",
       "      <td>42799</td>\n",
       "    </tr>\n",
       "    <tr>\n",
       "      <th>9</th>\n",
       "      <td>2019-01-11</td>\n",
       "      <td>253.24000549316406</td>\n",
       "      <td>254.0800018310547</td>\n",
       "      <td>252.1999969482422</td>\n",
       "      <td>253.7100067138672</td>\n",
       "      <td>77772</td>\n",
       "    </tr>\n",
       "  </tbody>\n",
       "</table>\n",
       "</div>"
      ],
      "text/plain": [
       "         Date               Close                High                 Low  \\\n",
       "0      Ticker              CSPX.L              CSPX.L              CSPX.L   \n",
       "1        Date                 NaN                 NaN                 NaN   \n",
       "2  2019-01-02  244.89999389648438  245.58999633789062  240.00999450683594   \n",
       "3  2019-01-03   241.3000030517578  243.72000122070312  239.42999267578125   \n",
       "4  2019-01-04  246.13999938964844   246.8000030517578               241.5   \n",
       "5  2019-01-07  249.25999450683594  249.50999450683594   246.8000030517578   \n",
       "6  2019-01-08  249.47999572753906  252.32000732421875  249.25999450683594   \n",
       "7  2019-01-09  252.89999389648438              253.25   251.6999969482422   \n",
       "8  2019-01-10  253.07000732421875  253.07000732421875  250.47000122070312   \n",
       "9  2019-01-11  253.24000549316406   254.0800018310547   252.1999969482422   \n",
       "\n",
       "                 Open  Volume  \n",
       "0              CSPX.L  CSPX.L  \n",
       "1                 NaN     NaN  \n",
       "2  242.17999267578125   58019  \n",
       "3   241.8800048828125  287542  \n",
       "4  241.75999450683594   86487  \n",
       "5  248.32000732421875  497565  \n",
       "6  249.72000122070312  123117  \n",
       "7  251.97999572753906   79492  \n",
       "8  251.72000122070312   42799  \n",
       "9   253.7100067138672   77772  "
      ]
     },
     "execution_count": 13,
     "metadata": {},
     "output_type": "execute_result"
    }
   ],
   "source": [
    "df.head(10)"
   ]
  },
  {
   "cell_type": "code",
   "execution_count": 15,
   "id": "43265768",
   "metadata": {},
   "outputs": [],
   "source": [
    "df = df[2:]"
   ]
  },
  {
   "cell_type": "code",
   "execution_count": 16,
   "id": "de8f8cdb",
   "metadata": {},
   "outputs": [
    {
     "data": {
      "text/html": [
       "<div>\n",
       "<style scoped>\n",
       "    .dataframe tbody tr th:only-of-type {\n",
       "        vertical-align: middle;\n",
       "    }\n",
       "\n",
       "    .dataframe tbody tr th {\n",
       "        vertical-align: top;\n",
       "    }\n",
       "\n",
       "    .dataframe thead th {\n",
       "        text-align: right;\n",
       "    }\n",
       "</style>\n",
       "<table border=\"1\" class=\"dataframe\">\n",
       "  <thead>\n",
       "    <tr style=\"text-align: right;\">\n",
       "      <th></th>\n",
       "      <th>Date</th>\n",
       "      <th>Close</th>\n",
       "      <th>High</th>\n",
       "      <th>Low</th>\n",
       "      <th>Open</th>\n",
       "      <th>Volume</th>\n",
       "    </tr>\n",
       "  </thead>\n",
       "  <tbody>\n",
       "    <tr>\n",
       "      <th>2</th>\n",
       "      <td>2019-01-02</td>\n",
       "      <td>244.89999389648438</td>\n",
       "      <td>245.58999633789062</td>\n",
       "      <td>240.00999450683594</td>\n",
       "      <td>242.17999267578125</td>\n",
       "      <td>58019</td>\n",
       "    </tr>\n",
       "    <tr>\n",
       "      <th>3</th>\n",
       "      <td>2019-01-03</td>\n",
       "      <td>241.3000030517578</td>\n",
       "      <td>243.72000122070312</td>\n",
       "      <td>239.42999267578125</td>\n",
       "      <td>241.8800048828125</td>\n",
       "      <td>287542</td>\n",
       "    </tr>\n",
       "    <tr>\n",
       "      <th>4</th>\n",
       "      <td>2019-01-04</td>\n",
       "      <td>246.13999938964844</td>\n",
       "      <td>246.8000030517578</td>\n",
       "      <td>241.5</td>\n",
       "      <td>241.75999450683594</td>\n",
       "      <td>86487</td>\n",
       "    </tr>\n",
       "    <tr>\n",
       "      <th>5</th>\n",
       "      <td>2019-01-07</td>\n",
       "      <td>249.25999450683594</td>\n",
       "      <td>249.50999450683594</td>\n",
       "      <td>246.8000030517578</td>\n",
       "      <td>248.32000732421875</td>\n",
       "      <td>497565</td>\n",
       "    </tr>\n",
       "    <tr>\n",
       "      <th>6</th>\n",
       "      <td>2019-01-08</td>\n",
       "      <td>249.47999572753906</td>\n",
       "      <td>252.32000732421875</td>\n",
       "      <td>249.25999450683594</td>\n",
       "      <td>249.72000122070312</td>\n",
       "      <td>123117</td>\n",
       "    </tr>\n",
       "    <tr>\n",
       "      <th>7</th>\n",
       "      <td>2019-01-09</td>\n",
       "      <td>252.89999389648438</td>\n",
       "      <td>253.25</td>\n",
       "      <td>251.6999969482422</td>\n",
       "      <td>251.97999572753906</td>\n",
       "      <td>79492</td>\n",
       "    </tr>\n",
       "    <tr>\n",
       "      <th>8</th>\n",
       "      <td>2019-01-10</td>\n",
       "      <td>253.07000732421875</td>\n",
       "      <td>253.07000732421875</td>\n",
       "      <td>250.47000122070312</td>\n",
       "      <td>251.72000122070312</td>\n",
       "      <td>42799</td>\n",
       "    </tr>\n",
       "    <tr>\n",
       "      <th>9</th>\n",
       "      <td>2019-01-11</td>\n",
       "      <td>253.24000549316406</td>\n",
       "      <td>254.0800018310547</td>\n",
       "      <td>252.1999969482422</td>\n",
       "      <td>253.7100067138672</td>\n",
       "      <td>77772</td>\n",
       "    </tr>\n",
       "    <tr>\n",
       "      <th>10</th>\n",
       "      <td>2019-01-14</td>\n",
       "      <td>252.7100067138672</td>\n",
       "      <td>253.00999450683594</td>\n",
       "      <td>251.25999450683594</td>\n",
       "      <td>251.63999938964844</td>\n",
       "      <td>88689</td>\n",
       "    </tr>\n",
       "    <tr>\n",
       "      <th>11</th>\n",
       "      <td>2019-01-15</td>\n",
       "      <td>254.4199981689453</td>\n",
       "      <td>255.0</td>\n",
       "      <td>252.57000732421875</td>\n",
       "      <td>253.8000030517578</td>\n",
       "      <td>150342</td>\n",
       "    </tr>\n",
       "  </tbody>\n",
       "</table>\n",
       "</div>"
      ],
      "text/plain": [
       "          Date               Close                High                 Low  \\\n",
       "2   2019-01-02  244.89999389648438  245.58999633789062  240.00999450683594   \n",
       "3   2019-01-03   241.3000030517578  243.72000122070312  239.42999267578125   \n",
       "4   2019-01-04  246.13999938964844   246.8000030517578               241.5   \n",
       "5   2019-01-07  249.25999450683594  249.50999450683594   246.8000030517578   \n",
       "6   2019-01-08  249.47999572753906  252.32000732421875  249.25999450683594   \n",
       "7   2019-01-09  252.89999389648438              253.25   251.6999969482422   \n",
       "8   2019-01-10  253.07000732421875  253.07000732421875  250.47000122070312   \n",
       "9   2019-01-11  253.24000549316406   254.0800018310547   252.1999969482422   \n",
       "10  2019-01-14   252.7100067138672  253.00999450683594  251.25999450683594   \n",
       "11  2019-01-15   254.4199981689453               255.0  252.57000732421875   \n",
       "\n",
       "                  Open  Volume  \n",
       "2   242.17999267578125   58019  \n",
       "3    241.8800048828125  287542  \n",
       "4   241.75999450683594   86487  \n",
       "5   248.32000732421875  497565  \n",
       "6   249.72000122070312  123117  \n",
       "7   251.97999572753906   79492  \n",
       "8   251.72000122070312   42799  \n",
       "9    253.7100067138672   77772  \n",
       "10  251.63999938964844   88689  \n",
       "11   253.8000030517578  150342  "
      ]
     },
     "execution_count": 16,
     "metadata": {},
     "output_type": "execute_result"
    }
   ],
   "source": [
    "df.head(10)"
   ]
  },
  {
   "cell_type": "code",
   "execution_count": 19,
   "id": "56d41a49",
   "metadata": {},
   "outputs": [],
   "source": [
    "df['Date'] = pd.to_datetime(df['Date'])"
   ]
  },
  {
   "cell_type": "code",
   "execution_count": 22,
   "id": "5f08287b",
   "metadata": {},
   "outputs": [
    {
     "name": "stdout",
     "output_type": "stream",
     "text": [
      "<class 'pandas.core.frame.DataFrame'>\n",
      "RangeIndex: 1514 entries, 2 to 1515\n",
      "Data columns (total 6 columns):\n",
      " #   Column  Non-Null Count  Dtype         \n",
      "---  ------  --------------  -----         \n",
      " 0   Date    1514 non-null   datetime64[ns]\n",
      " 1   Close   1514 non-null   object        \n",
      " 2   High    1514 non-null   object        \n",
      " 3   Low     1514 non-null   object        \n",
      " 4   Open    1514 non-null   object        \n",
      " 5   Volume  1514 non-null   object        \n",
      "dtypes: datetime64[ns](1), object(5)\n",
      "memory usage: 71.1+ KB\n"
     ]
    }
   ],
   "source": [
    "df.info()"
   ]
  },
  {
   "cell_type": "code",
   "execution_count": 24,
   "id": "8dd994d2",
   "metadata": {},
   "outputs": [
    {
     "data": {
      "text/plain": [
       "Index(['Date', 'Close', 'High', 'Low', 'Open', 'Volume'], dtype='object')"
      ]
     },
     "execution_count": 24,
     "metadata": {},
     "output_type": "execute_result"
    }
   ],
   "source": [
    "df.columns"
   ]
  },
  {
   "cell_type": "code",
   "execution_count": 25,
   "id": "0dd5a564",
   "metadata": {},
   "outputs": [],
   "source": [
    "numeric_cols = ['Open', 'Close', 'High', 'Low', 'Open', 'Volume']"
   ]
  },
  {
   "cell_type": "code",
   "execution_count": 27,
   "id": "05324e25",
   "metadata": {},
   "outputs": [],
   "source": [
    "df[numeric_cols] = np.array(df[numeric_cols], dtype=np.float64)"
   ]
  },
  {
   "cell_type": "code",
   "execution_count": 30,
   "id": "82ca4476",
   "metadata": {},
   "outputs": [
    {
     "name": "stdout",
     "output_type": "stream",
     "text": [
      "<class 'pandas.core.frame.DataFrame'>\n",
      "RangeIndex: 1514 entries, 2 to 1515\n",
      "Data columns (total 6 columns):\n",
      " #   Column  Non-Null Count  Dtype         \n",
      "---  ------  --------------  -----         \n",
      " 0   Date    1514 non-null   datetime64[ns]\n",
      " 1   Close   1514 non-null   float64       \n",
      " 2   High    1514 non-null   float64       \n",
      " 3   Low     1514 non-null   float64       \n",
      " 4   Open    1514 non-null   float64       \n",
      " 5   Volume  1514 non-null   float64       \n",
      "dtypes: datetime64[ns](1), float64(5)\n",
      "memory usage: 71.1 KB\n"
     ]
    }
   ],
   "source": [
    "df.info()"
   ]
  },
  {
   "cell_type": "code",
   "execution_count": 32,
   "id": "259afe19",
   "metadata": {},
   "outputs": [],
   "source": [
    "df['Date_obj'] = df['Date'].astype(str)"
   ]
  },
  {
   "cell_type": "code",
   "execution_count": 34,
   "id": "3d9cfcfa",
   "metadata": {},
   "outputs": [
    {
     "data": {
      "text/plain": [
       "Index(['Date', 'Close', 'High', 'Low', 'Open', 'Volume', 'Date_obj'], dtype='object')"
      ]
     },
     "execution_count": 34,
     "metadata": {},
     "output_type": "execute_result"
    }
   ],
   "source": [
    "df.columns"
   ]
  },
  {
   "cell_type": "code",
   "execution_count": 35,
   "id": "9d6eeb54",
   "metadata": {},
   "outputs": [],
   "source": [
    "df = df[['Date', 'Close', 'High', 'Low', 'Open', 'Volume']]"
   ]
  },
  {
   "cell_type": "code",
   "execution_count": 36,
   "id": "6d47a53c",
   "metadata": {},
   "outputs": [
    {
     "name": "stdout",
     "output_type": "stream",
     "text": [
      "<class 'pandas.core.frame.DataFrame'>\n",
      "RangeIndex: 1514 entries, 2 to 1515\n",
      "Data columns (total 6 columns):\n",
      " #   Column  Non-Null Count  Dtype         \n",
      "---  ------  --------------  -----         \n",
      " 0   Date    1514 non-null   datetime64[ns]\n",
      " 1   Close   1514 non-null   float64       \n",
      " 2   High    1514 non-null   float64       \n",
      " 3   Low     1514 non-null   float64       \n",
      " 4   Open    1514 non-null   float64       \n",
      " 5   Volume  1514 non-null   float64       \n",
      "dtypes: datetime64[ns](1), float64(5)\n",
      "memory usage: 71.1 KB\n"
     ]
    }
   ],
   "source": [
    "df.info()"
   ]
  },
  {
   "cell_type": "code",
   "execution_count": 40,
   "id": "ff98fcd4",
   "metadata": {},
   "outputs": [],
   "source": [
    "df.reset_index(drop=True, inplace=True)"
   ]
  },
  {
   "cell_type": "code",
   "execution_count": 43,
   "id": "583ee817",
   "metadata": {},
   "outputs": [],
   "source": [
    "df = df[['Date', 'Close', 'High', 'Low', 'Open', 'Volume']]"
   ]
  },
  {
   "cell_type": "code",
   "execution_count": 44,
   "id": "cf0f0be1",
   "metadata": {},
   "outputs": [
    {
     "data": {
      "text/html": [
       "<div>\n",
       "<style scoped>\n",
       "    .dataframe tbody tr th:only-of-type {\n",
       "        vertical-align: middle;\n",
       "    }\n",
       "\n",
       "    .dataframe tbody tr th {\n",
       "        vertical-align: top;\n",
       "    }\n",
       "\n",
       "    .dataframe thead th {\n",
       "        text-align: right;\n",
       "    }\n",
       "</style>\n",
       "<table border=\"1\" class=\"dataframe\">\n",
       "  <thead>\n",
       "    <tr style=\"text-align: right;\">\n",
       "      <th></th>\n",
       "      <th>Date</th>\n",
       "      <th>Close</th>\n",
       "      <th>High</th>\n",
       "      <th>Low</th>\n",
       "      <th>Open</th>\n",
       "      <th>Volume</th>\n",
       "    </tr>\n",
       "  </thead>\n",
       "  <tbody>\n",
       "    <tr>\n",
       "      <th>0</th>\n",
       "      <td>2019-01-02</td>\n",
       "      <td>244.899994</td>\n",
       "      <td>245.589996</td>\n",
       "      <td>240.009995</td>\n",
       "      <td>242.179993</td>\n",
       "      <td>58019.0</td>\n",
       "    </tr>\n",
       "    <tr>\n",
       "      <th>1</th>\n",
       "      <td>2019-01-03</td>\n",
       "      <td>241.300003</td>\n",
       "      <td>243.720001</td>\n",
       "      <td>239.429993</td>\n",
       "      <td>241.880005</td>\n",
       "      <td>287542.0</td>\n",
       "    </tr>\n",
       "    <tr>\n",
       "      <th>2</th>\n",
       "      <td>2019-01-04</td>\n",
       "      <td>246.139999</td>\n",
       "      <td>246.800003</td>\n",
       "      <td>241.500000</td>\n",
       "      <td>241.759995</td>\n",
       "      <td>86487.0</td>\n",
       "    </tr>\n",
       "    <tr>\n",
       "      <th>3</th>\n",
       "      <td>2019-01-07</td>\n",
       "      <td>249.259995</td>\n",
       "      <td>249.509995</td>\n",
       "      <td>246.800003</td>\n",
       "      <td>248.320007</td>\n",
       "      <td>497565.0</td>\n",
       "    </tr>\n",
       "    <tr>\n",
       "      <th>4</th>\n",
       "      <td>2019-01-08</td>\n",
       "      <td>249.479996</td>\n",
       "      <td>252.320007</td>\n",
       "      <td>249.259995</td>\n",
       "      <td>249.720001</td>\n",
       "      <td>123117.0</td>\n",
       "    </tr>\n",
       "  </tbody>\n",
       "</table>\n",
       "</div>"
      ],
      "text/plain": [
       "        Date       Close        High         Low        Open    Volume\n",
       "0 2019-01-02  244.899994  245.589996  240.009995  242.179993   58019.0\n",
       "1 2019-01-03  241.300003  243.720001  239.429993  241.880005  287542.0\n",
       "2 2019-01-04  246.139999  246.800003  241.500000  241.759995   86487.0\n",
       "3 2019-01-07  249.259995  249.509995  246.800003  248.320007  497565.0\n",
       "4 2019-01-08  249.479996  252.320007  249.259995  249.720001  123117.0"
      ]
     },
     "execution_count": 44,
     "metadata": {},
     "output_type": "execute_result"
    }
   ],
   "source": [
    "df.head()"
   ]
  },
  {
   "cell_type": "code",
   "execution_count": 48,
   "id": "150c8bd5",
   "metadata": {},
   "outputs": [],
   "source": [
    "df.to_csv('data/CSPX_cleaned.csv')"
   ]
  },
  {
   "cell_type": "code",
   "execution_count": null,
   "id": "de079442",
   "metadata": {},
   "outputs": [],
   "source": []
  }
 ],
 "metadata": {
  "kernelspec": {
   "display_name": "venv",
   "language": "python",
   "name": "python3"
  },
  "language_info": {
   "codemirror_mode": {
    "name": "ipython",
    "version": 3
   },
   "file_extension": ".py",
   "mimetype": "text/x-python",
   "name": "python",
   "nbconvert_exporter": "python",
   "pygments_lexer": "ipython3",
   "version": "3.12.9"
  }
 },
 "nbformat": 4,
 "nbformat_minor": 5
}
